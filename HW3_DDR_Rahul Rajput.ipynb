{
 "cells": [
  {
   "cell_type": "markdown",
   "id": "71b0c76a",
   "metadata": {},
   "source": [
    "HW Assignment 2 for Rahul Rajput"
   ]
  },
  {
   "cell_type": "code",
   "execution_count": 113,
   "id": "dd18fd9d",
   "metadata": {},
   "outputs": [],
   "source": [
    "from bs4 import BeautifulSoup\n",
    "import requests\n",
    "import re\n",
    "import time"
   ]
  },
  {
   "cell_type": "code",
   "execution_count": 114,
   "id": "cabe35db",
   "metadata": {},
   "outputs": [
    {
     "name": "stdout",
     "output_type": "stream",
     "text": [
      "The status code for website access is : 200\n"
     ]
    }
   ],
   "source": [
    "URL= \"https://www.barnesandnoble.com/b/books/_/N-1fZ29Z8q8?Nrpp=40&page=1\"\n",
    "\n",
    "session = requests.Session()\n",
    "page = session.get(URL, headers={'User-Agent': 'Mozilla/5.0'})\n",
    "\n",
    "print(\"The status code for website access is :\",page.status_code)\n",
    "\n",
    "soup = BeautifulSoup(page.text, 'lxml')"
   ]
  },
  {
   "cell_type": "code",
   "execution_count": 36,
   "id": "d45f4f88",
   "metadata": {},
   "outputs": [
    {
     "data": {
      "text/plain": [
       "'ean=9781250908452'"
      ]
     },
     "execution_count": 36,
     "metadata": {},
     "output_type": "execute_result"
    }
   ],
   "source": [
    "#book = re.search('.*?([a-z=0-9]+)\"[^\\S].*',str(top40urls[0]))\n",
    "#book.group(1)"
   ]
  },
  {
   "cell_type": "markdown",
   "id": "87d80c19",
   "metadata": {},
   "source": [
    "On playing around with the URL I found that the only important part of url required to access a specific book is the ean number (https://www.barnesandnoble.com/w/?ean=9798823179430)"
   ]
  },
  {
   "cell_type": "code",
   "execution_count": 115,
   "id": "c1104322",
   "metadata": {},
   "outputs": [],
   "source": [
    "url_initial = 'https://www.barnesandnoble.com/w/?'"
   ]
  },
  {
   "cell_type": "code",
   "execution_count": null,
   "id": "50425ac6",
   "metadata": {},
   "outputs": [],
   "source": [
    "\"file_{}.dat\".format(i)"
   ]
  },
  {
   "cell_type": "code",
   "execution_count": 120,
   "id": "f4450f0e",
   "metadata": {
    "scrolled": true
   },
   "outputs": [
    {
     "name": "stdout",
     "output_type": "stream",
     "text": [
      "The status code for website access is : 200\n",
      "Book 1\n",
      "The status code for website access is : 200\n",
      "Book 2\n",
      "The status code for website access is : 200\n",
      "Book 3\n",
      "The status code for website access is : 200\n",
      "Book 4\n",
      "The status code for website access is : 200\n",
      "Book 5\n",
      "The status code for website access is : 200\n",
      "Book 6\n",
      "The status code for website access is : 200\n",
      "Book 7\n",
      "The status code for website access is : 200\n",
      "Book 8\n",
      "The status code for website access is : 200\n",
      "Book 9\n",
      "The status code for website access is : 200\n",
      "Book 10\n",
      "The status code for website access is : 200\n",
      "Book 11\n",
      "The status code for website access is : 200\n",
      "Book 12\n",
      "The status code for website access is : 200\n",
      "Book 13\n",
      "The status code for website access is : 200\n",
      "Book 14\n",
      "The status code for website access is : 200\n",
      "Book 15\n",
      "The status code for website access is : 200\n",
      "Book 16\n",
      "The status code for website access is : 200\n",
      "Book 17\n",
      "The status code for website access is : 200\n",
      "Book 18\n",
      "The status code for website access is : 200\n",
      "Book 19\n",
      "The status code for website access is : 200\n",
      "Book 20\n",
      "The status code for website access is : 200\n",
      "Book 21\n",
      "The status code for website access is : 200\n",
      "Book 22\n",
      "The status code for website access is : 200\n",
      "Book 23\n",
      "The status code for website access is : 200\n",
      "Book 24\n",
      "The status code for website access is : 200\n",
      "Book 25\n",
      "The status code for website access is : 200\n",
      "Book 26\n",
      "The status code for website access is : 200\n",
      "Book 27\n",
      "The status code for website access is : 200\n",
      "Book 28\n",
      "The status code for website access is : 200\n",
      "Book 29\n",
      "The status code for website access is : 200\n",
      "Book 30\n",
      "The status code for website access is : 200\n",
      "Book 31\n",
      "The status code for website access is : 200\n",
      "Book 32\n",
      "The status code for website access is : 200\n",
      "Book 33\n",
      "The status code for website access is : 200\n",
      "Book 34\n",
      "The status code for website access is : 200\n",
      "Book 35\n",
      "The status code for website access is : 200\n",
      "Book 36\n",
      "The status code for website access is : 200\n",
      "Book 37\n",
      "The status code for website access is : 200\n",
      "Book 38\n",
      "The status code for website access is : 200\n",
      "Book 39\n",
      "The status code for website access is : 200\n",
      "Book 40\n"
     ]
    }
   ],
   "source": [
    "books = {}\n",
    "\n",
    "for i in range(40):\n",
    "    book = re.search('.*?([a-z=0-9]+)\"[^\\S].*',str(top40urls[i]))\n",
    "    \n",
    "    url_bookpage = url_initial + book.group(1)\n",
    "    session_book = requests.Session()\n",
    "    book_page = session_book.get(url_bookpage, headers={'User-Agent': 'Mozilla/5.0'})\n",
    "    soup_book = BeautifulSoup(book_page.content, 'html.parser')\n",
    "    print(\"The status code for website access is :\",page.status_code)\n",
    "    \n",
    "    with open(\"/Users/rahulrajput/Desktop/MSBA/Winter/422 - Data Design & Representation/HW 3/Storage/top100_\" + str(i+1) + \".html\", \"w\") as f:\n",
    "        f.write(str(soup_book))                \n",
    "    \n",
    "    print('Book '+ str(i+1))\n",
    "    time.sleep(6)"
   ]
  },
  {
   "cell_type": "code",
   "execution_count": 128,
   "id": "f3bfc92b",
   "metadata": {},
   "outputs": [
    {
     "name": "stdout",
     "output_type": "stream",
     "text": [
      "Book 1: \n",
      "A New York Times bestseller. In the tradition of Speak, this extraordinary debut novel “is a poigna\n",
      "Book 2: \n",
      "Years in the making, Sarah J. Maas's #1 New York Times bestselling Throne of Glass series draws to \n",
      "Book 3: \n",
      "A steamy contemporary royal romance from BookTok sensation Ana Huang.Stoic, broody, and arrogant, e\n",
      "Book 4: \n",
      "The definitive guide to creating the sex life of your wildest dreams—just by talking about it!—from\n",
      "Book 5: \n",
      "In this “brave and heartbreaking novel that digs its claws into you and doesn’t let go, long after \n",
      "Book 7: \n",
      "A diverse steamy enemies to lovers romance from BookTok sensation Ana Huang.Gorgeous, cocky, and fa\n",
      "Book 8: \n",
      "Before It Ends with Us, it started with Atlas. Colleen Hoover tells fan favorite Atlas’s side of th\n",
      "Book 9: \n",
      "The #1 New York Times bestseller. Over 4 million copies sold!Tiny Changes, Remarkable ResultsNo mat\n",
      "Book 10: \n",
      "The instant #1 New York Times bestselling mystery and Reese Witherspoon Book Club pick that’s capti\n",
      "Book 11: \n",
      "The seductive and stunning #1 New York Times bestselling sequel to Sarah J. Maas’s spellbinding A C\n",
      "Book 12: \n",
      "This Barnes & Noble Exclusive Edition includes a unique cover and case stamp and will contain exclu\n",
      "Book 13: \n",
      "Instant New York Times Bestseller! James Patterson and Mike Lupica are the thriller dream team! Jen\n",
      "Book 14: \n",
      "HIDDEN TRUTHS AND BURIED HEARTSThe longer Mo Ran spends in his life reborn, the less he understands\n",
      "Book 15: \n",
      "The bestselling thriller with “a tantalizing premise and twists at every turn . . . a sizzling, mas\n",
      "Book 16: \n",
      "1.5 MILLION COPIES SOLD OF THE #1 BESTSELLING SERIES! Don't miss this New York Times bestselling \"i\n",
      "Book 17: \n",
      "This Barnes & Noble Exclusive Edition includes an extra chapter, designed endpapers, and an intervi\n",
      "Book 18: \n",
      "A tender addition to the #1 New York Times bestselling Court of Thorns and Roses series by Sarah J.\n",
      "Book 19: \n",
      "This Barnes & Noble Exclusive Edition contains bonus content and features a unique cover! The adult\n",
      "Book 20: \n",
      "The final book in the Twisted series from BookTok sensation Ana Huang, featuring fan favorites Chri\n",
      "Book 21: \n",
      "Pirates of the Caribbean meets The Mummy in Vengeance of the Pirate Queen, a beautifully designed s\n",
      "Book 22: \n",
      "A New York Times BestsellerIf he had been with me, everything would have been different...Autumn an\n",
      "Book 23: \n",
      "#1 NEW YORK TIMES BESTSELLER It was one of the most searing images of the twentieth century: two yo\n",
      "Book 24: \n",
      "THE MUST-READ MULTIMILLION BESTSELLING MYSTERY SERIES• Everyone is talking about A Good Girl's Guid\n",
      "Book 25: \n",
      "An instant New York Times bestseller • A New York Times Notable Book of 2022 • Named a Best Book of\n",
      "Book 26: \n",
      "From TikTok sensation Lauren Asher comes the final book in the Dreamland Billionaires series.Callah\n",
      "Book 27: \n",
      "Sarah J. Maas's sexy, richly imagined series continues with the journey of Feyre's fiery sister, Ne\n",
      "Book 28: \n",
      "He has a heart of ice…but for her, he'd burn the worldA diverse new adult steamy romance from Tikto\n",
      "Book 29: \n",
      "#1 NEW YORK TIMES BESTSELLER! Stephanie Garber’s THE BALLAD OF NEVER AFTER is the jaw-dropping sequ\n",
      "Book 30: \n",
      "The perfect picture book to celebrate every milestone from the bestselling creators of Hello!Lucky!\n",
      "Book 31: \n",
      "From the legendary music producer, a master at helping people connect with the wellsprings of their\n",
      "Book 32: \n",
      "The mysterious connection between a teacher’s disappearance and an unsolved code in a children’s bo\n",
      "Book 33: \n",
      "Former Secretary of State Mike Pompeo spearheaded the Trump Administration’s most significant forei\n",
      "Book 34: \n",
      "This Barnes & Noble Exclusive Edition is signed by the author and includes an exclusive novella.  T\n",
      "Book 35: \n",
      "The epic third novel in the #1 New York Times bestselling Court of Thorns and Roses series by Sarah\n",
      "Book 36: \n",
      "The sexy, action-packed first book in the #1 New York Times bestselling Court of Thorns and Roses s\n",
      "Book 37: \n",
      "NEW YORK TIMES BESTSELLER “If you’re looking for a book to take on holiday this summer, The Seven H\n",
      "Book 38: \n",
      "TO LIVEAND DREAMIS A WICKED DANCE.MY DREAMS OFTEN COME TRUE—A CURSE,AND A BLESSING.PAMELA ANDERSON’\n",
      "Book 39: \n",
      "James and Cordelia must save London—and their marriage—in this thrilling and highly anticipated con\n",
      "Book 40: \n",
      "This Barnes & Noble Exclusive Edition features an alternate jacket and contains the author's person\n",
      "Book 41: \n",
      "BARNES & NOBLE'S SPECULATIVE FICTION BOOK OF THE YEAR FOR 2021This Barnes and Noble Exclusive Editi\n"
     ]
    }
   ],
   "source": [
    "import os\n",
    "directory = '/Users/rahulrajput/Desktop/MSBA/Winter/422 - Data Design & Representation/HW 3/Storage'\n",
    "output_text = \"\"\n",
    "cnt = 1\n",
    "for filename in os.listdir(directory):\n",
    "    path = f = os.path.join(directory, filename)\n",
    "\n",
    "    with open(path, \"rb\") as file:\n",
    "      soup_try = BeautifulSoup(file)\n",
    "    \n",
    "    output = soup_try.select('div.overview-cntnt')\n",
    "    for j in output:\n",
    "        print('Book '+ str(cnt) + ': ' + j.text[0:100])\n",
    "        output_text += 'Book '+ str(cnt) + ': ' + j.text[0:100]\n",
    "        #print(cnt)\n",
    "    \n",
    "    cnt = cnt + 1\n",
    "    \n",
    "with open(\"/Users/rahulrajput/Desktop/MSBA/Winter/422 - Data Design & Representation/HW 3/RahulRajput_screen.txt\", \"w\") as f:\n",
    "        f.write(output_text)"
   ]
  }
 ],
 "metadata": {
  "kernelspec": {
   "display_name": "Python 3 (ipykernel)",
   "language": "python",
   "name": "python3"
  },
  "language_info": {
   "codemirror_mode": {
    "name": "ipython",
    "version": 3
   },
   "file_extension": ".py",
   "mimetype": "text/x-python",
   "name": "python",
   "nbconvert_exporter": "python",
   "pygments_lexer": "ipython3",
   "version": "3.9.7"
  }
 },
 "nbformat": 4,
 "nbformat_minor": 5
}
