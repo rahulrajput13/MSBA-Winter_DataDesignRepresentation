{
 "cells": [
  {
   "cell_type": "markdown",
   "id": "01d36626",
   "metadata": {},
   "source": [
    "HW Assignment 2 for Rahul Rajput"
   ]
  },
  {
   "cell_type": "code",
   "execution_count": 2,
   "id": "9e0eda31",
   "metadata": {},
   "outputs": [],
   "source": [
    "from bs4 import BeautifulSoup\n",
    "import requests\n",
    "import re"
   ]
  },
  {
   "cell_type": "code",
   "execution_count": 8,
   "id": "86263a57",
   "metadata": {},
   "outputs": [
    {
     "name": "stdout",
     "output_type": "stream",
     "text": [
      "The status code for website access is : 200\n",
      "The current price is:  $1,029.99\n",
      "The list price is:  $1,399.99\n"
     ]
    }
   ],
   "source": [
    "#### QUESTION 1 ####\n",
    "\n",
    "URL= \"https://www.tigerdirect.com/applications/SearchTools/item-details.asp?EdpNo=1501390\"\n",
    "\n",
    "session = requests.Session()\n",
    "page = session.get(URL, headers={'User-Agent': 'Mozilla/5.0'})\n",
    "\n",
    "print(\"The status code for website access is :\",page.status_code)\n",
    "\n",
    "soup = BeautifulSoup(page.text, 'lxml')\n",
    "\n",
    "list_price = soup.select(\"p.list-price\")\n",
    "current_price = soup.select(\"p.final-price span.sale-price\")\n",
    "\n",
    "list_prices = []\n",
    "for i in list_price:\n",
    "    #print(i.text)\n",
    "    list_prices.append(str(i.text))\n",
    "\n",
    "current_prices = []    \n",
    "for i in current_price:\n",
    "    #print(i.text)\n",
    "    current_prices.append(str(i.text))\n",
    "\n",
    "list_price_value = re.search('.*?([$,0-9]+\\.[0-9]+).*',list_prices[0])\n",
    "current_price_value = re.search('.*?([$,0-9]+\\.[0-9]+).*',current_prices[0])\n",
    "\n",
    "print(\"The current price is: \",current_price_value.group(1))\n",
    "print(\"The list price is: \",list_price_value.group(1))"
   ]
  },
  {
   "cell_type": "code",
   "execution_count": 9,
   "id": "4c64a62a",
   "metadata": {
    "scrolled": true
   },
   "outputs": [
    {
     "name": "stdout",
     "output_type": "stream",
     "text": [
      "The status code for website access is : 200\n",
      "The Second Heading under Top Stories for US News is: Existing Homes Fall 1.5% in December\n",
      "https://www.usnews.com/news/economy/articles/2023-01-20/existing-homes-fall-1-5-in-december-marking-11th-month-of-declines\n",
      "The status code for website access is : 200\n",
      "The Header for the article: Existing Homes Fall 1.5% in December, Marking 11th Month of Declines\n",
      "Sentence 1: Sales of existing homes slid 1.5% in December, somewhat better than expected but the 11th straight month of decline, the National Association of Realtors said on Friday\n",
      "Sentence 2: The number was better than estimates of a 3.4% drop and brings the annual rate of home sales just a hair above 4 million\n",
      "Sentence 3:  Sales are now down 34% from year-ago levels\n"
     ]
    }
   ],
   "source": [
    "#### QUESTION 2 ####\n",
    "\n",
    "URL2= \"https://www.usnews.com/\"\n",
    "\n",
    "session2 = requests.Session()\n",
    "page2 = session2.get(URL2, headers={'User-Agent': 'Mozilla/5.0'})\n",
    "print(\"The status code for website access is :\",page2.status_code)\n",
    "\n",
    "soup2 = BeautifulSoup(page2.text, 'lxml')\n",
    "\n",
    "top_stories = soup2.select(\"h3.Heading-sc-1w5xk2o-0.ContentBox__StoryHeading-sc-1egb8dt-3.MRvpF.fqJuKa.story-headline a\")\n",
    "\n",
    "headings = []\n",
    "for i in top_stories:\n",
    "    #print(i.text)\n",
    "    headings.append(str(i.text))\n",
    "\n",
    "# Second Heading under Top Stories\n",
    "print(\"The Second Heading under Top Stories for US News is: \" + headings[1])\n",
    "    \n",
    "import re\n",
    "\n",
    "output = re.search('.*=\"(.*)\">.*',str(top_stories[1]))\n",
    "print(output.group(1))\n",
    "\n",
    "URL2b = output.group(1)\n",
    "\n",
    "session2b = requests.Session()\n",
    "page2b = session2b.get(URL2b, headers={'User-Agent': 'Mozilla/5.0'})\n",
    "print(\"The status code for website access is :\",page2b.status_code)\n",
    "\n",
    "soup2b = BeautifulSoup(page2b.text, 'lxml')\n",
    "\n",
    "header = soup2b.select(\"div.Villain__TitleContainer-sc-1y12ps5-6.knjdTo\")\n",
    "#article = soup2b.select(\"div.Box-w0dun1-0.article-body__ArticleBox-sc-138p7q2-2.dWWnRo.eYFKbH\")\n",
    "article = soup2b.select(\"div.Raw-slyvem-0.bCYKCn\")\n",
    "\n",
    "for i in header:\n",
    "    print(\"The Header for the article: \" + i.text)\n",
    "\n",
    "text = \"\"   \n",
    "for j in article:\n",
    "    #print(j.text)\n",
    "    text += j.text\n",
    "    \n",
    "answer = re.search(\"([^.]*[0-9]\\.[0-9][^.]*)\\.([^.]*[0-9]\\.[0-9][^.]*)\\.([^.]*)\\..*\",text)\n",
    "\n",
    "for i in range(1,4):\n",
    "    print(\"Sentence \" + str(i) + \": \" + answer.group(i))"
   ]
  },
  {
   "cell_type": "code",
   "execution_count": null,
   "id": "57d05228",
   "metadata": {},
   "outputs": [],
   "source": []
  }
 ],
 "metadata": {
  "kernelspec": {
   "display_name": "Python 3 (ipykernel)",
   "language": "python",
   "name": "python3"
  },
  "language_info": {
   "codemirror_mode": {
    "name": "ipython",
    "version": 3
   },
   "file_extension": ".py",
   "mimetype": "text/x-python",
   "name": "python",
   "nbconvert_exporter": "python",
   "pygments_lexer": "ipython3",
   "version": "3.9.7"
  }
 },
 "nbformat": 4,
 "nbformat_minor": 5
}
