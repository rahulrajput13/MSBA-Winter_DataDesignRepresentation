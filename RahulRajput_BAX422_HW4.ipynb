{
 "cells": [
  {
   "cell_type": "markdown",
   "id": "0f4200b0",
   "metadata": {},
   "source": [
    "## Part 1"
   ]
  },
  {
   "cell_type": "code",
   "execution_count": 206,
   "id": "04b9b2eb",
   "metadata": {},
   "outputs": [],
   "source": [
    "from bs4 import BeautifulSoup\n",
    "import requests\n",
    "import re\n",
    "import time\n",
    "import os"
   ]
  },
  {
   "cell_type": "code",
   "execution_count": 207,
   "id": "fdbaafab",
   "metadata": {},
   "outputs": [],
   "source": [
    "Username = \"MikoyanG\"\n",
    "Password = \"Blackbird\""
   ]
  },
  {
   "cell_type": "code",
   "execution_count": 208,
   "id": "e262d5ac",
   "metadata": {},
   "outputs": [
    {
     "name": "stdout",
     "output_type": "stream",
     "text": [
      "The status code for website access is : 200\n"
     ]
    }
   ],
   "source": [
    "URL_homepage = \"https://www.planespotters.net\"\n",
    "\n",
    "headers = {'user-agent': 'Mozilla/5.0 (Windows NT 10.0; Win64; x64) AppleWebKit/537.36 (KHTML, like Gecko) Chrome/88.0.4324.96 Safari/537.36 Edg/88.0.705.56'}\n",
    "\n",
    "homepage = requests.get(URL_homepage, headers=headers)\n",
    "print(\"The status code for website access is :\",homepage.status_code)\n",
    "homesoup = BeautifulSoup(homepage.text, 'html.parser')"
   ]
  },
  {
   "cell_type": "code",
   "execution_count": 209,
   "id": "f43adb52",
   "metadata": {},
   "outputs": [
    {
     "name": "stdout",
     "output_type": "stream",
     "text": [
      "/user/login?redirect=%2F\n",
      "/user/signup\n"
     ]
    }
   ],
   "source": [
    "links = []\n",
    "for i in homesoup.select('div.page__header_actions a'):\n",
    "    print(i['href'])\n",
    "    links.append(i['href'])"
   ]
  },
  {
   "cell_type": "code",
   "execution_count": 242,
   "id": "39a0b8ad",
   "metadata": {},
   "outputs": [
    {
     "name": "stdout",
     "output_type": "stream",
     "text": [
      "The status code for website access is : 200\n"
     ]
    }
   ],
   "source": [
    "URL_login = URL_homepage + links[0]\n",
    "\n",
    "session_requests = requests.session()\n",
    "loginpage = session_requests.get(\"https://www.planespotters.net/user/login\", headers=headers)\n",
    "loginsoup = BeautifulSoup(loginpage.text, 'html.parser')\n",
    "\n",
    "print(\"The status code for website access is :\",loginpage.status_code)"
   ]
  },
  {
   "cell_type": "code",
   "execution_count": 243,
   "id": "62a8f335",
   "metadata": {},
   "outputs": [
    {
     "name": "stdout",
     "output_type": "stream",
     "text": [
      "{'__psuid': '567d463bf7079c5a20bc21b00154004a', 'ps_sessid': 'iVbcMCjgqut5BgwWMwqnLmGpOg'}\n"
     ]
    }
   ],
   "source": [
    "cookies_get = session_requests.cookies.get_dict()\n",
    "print(cookies_get)"
   ]
  },
  {
   "cell_type": "code",
   "execution_count": 244,
   "id": "548ea9c7",
   "metadata": {
    "scrolled": true
   },
   "outputs": [],
   "source": [
    "csrf = loginsoup.select(\"input[name=csrf]\", type=\"hidden\")[0].get(\"value\")\n",
    "rid = loginsoup.select(\"input[name=rid]\", type=\"hidden\")[0].get(\"value\")"
   ]
  },
  {
   "cell_type": "code",
   "execution_count": 247,
   "id": "12ae4005",
   "metadata": {},
   "outputs": [
    {
     "name": "stdout",
     "output_type": "stream",
     "text": [
      "The status code for website access is : 200\n"
     ]
    }
   ],
   "source": [
    "logging_in = session_requests.post(\"https://www.planespotters.net/user/login\",\n",
    "                          data = {\"username\": \"MikoyanG\", \"password\": \"Blackbird\", \"csrf\":csrf, \"rid\":rid},\n",
    "                          #cookies = cookies_get,\n",
    "                          headers=headers)\n",
    "\n",
    "print(\"The status code for website access is :\",logging_in.status_code)"
   ]
  },
  {
   "cell_type": "code",
   "execution_count": 248,
   "id": "18602a2a",
   "metadata": {},
   "outputs": [
    {
     "name": "stdout",
     "output_type": "stream",
     "text": [
      "{'__psuid': '567d463bf7079c5a20bc21b00154004a', 'ps_sessid': 'pgZmFI3DFg0Aoct3zw79EgYyNz'}\n"
     ]
    }
   ],
   "source": [
    "cookies_post = session_requests.cookies.get_dict()\n",
    "print(cookies_post)"
   ]
  },
  {
   "cell_type": "code",
   "execution_count": 266,
   "id": "105a5591",
   "metadata": {
    "scrolled": true
   },
   "outputs": [
    {
     "name": "stdout",
     "output_type": "stream",
     "text": [
      "The status code for website access is : 200\n",
      "<!DOCTYPE html>\n",
      "\n",
      "<html lang=\"en\">\n",
      "<head>\n",
      "<meta charset=\"utf-8\"/>\n",
      "<title>My Profile</title>\n",
      "<meta content=\"width=1080\" name=\"viewport\"/>\n",
      "<meta content=\"ie=edge\" http-equiv=\"x-ua-compatible\"/>\n",
      "<link href=\"/favicon.ico\" rel=\"shortcut icon\"/>\n",
      "<link href=\"/favicon_16.png\" rel=\"icon\" sizes=\"16x16\" type=\"image/png\"/>\n",
      "<link href=\"/favicon_64.png\" rel=\"icon\" sizes=\"64x64\" type=\"image/png\"/>\n",
      "<link href=\"/favicon_196.png\" rel=\"icon\" sizes=\"196x196\" type=\"image/png\"/>\n",
      "<link href=\"/favicon.svg\" rel=\"icon\" sizes=\"any\" type=\"image/svg+xml\"/>\n",
      "<link href=\"/apple-touch-icon.png\" rel=\"apple-touch-icon\" sizes=\"180x180\"/>\n",
      "<link color=\"#1e2837\" href=\"/static/img/safari-pinned-tab.svg\" rel=\"mask-icon\"/>\n",
      "<meta content=\"Planespotters\" name=\"application-name\"/>\n",
      "<meta content=\"#1e2837\" name=\"theme-color\"/>\n",
      "<link href=\"/site.webmanifest\" rel=\"manifest\"/>\n",
      "<script async=\"\" src=\"https://www.googletagmanager.com/gtag/js?id=G-NMJZKP0929\"></script>\n",
      "<script>\n",
      "\twindow.dataLayer = window.dataLayer || [];\n",
      "\tfunction gtag() { dataLayer.push(arguments); }\n",
      "\tgtag('consent', 'default', {\n",
      "\t\t'ad_storage': 'denied',\n",
      "\t\t'analytics_storage': 'denied',\n",
      "\t\t'wait_for_update': 1500 //milliseconds\n",
      "\t});\n",
      "\tgtag('set', 'ads_data_redaction', true);\n",
      "\tgtag('js', new Date());\n",
      "\tgtag('config', 'G-NMJZKP0929', { 'anonymize_ip': true });\n",
      "</script>\n",
      "<script async=\"async\" src=\"https://cdn-a.yieldlove.com/v2/yieldlove.js?planespotters.net\"></script>\n",
      "<link href=\"https://static4.planespotters.net/css/theme-4c730e4d48.min.css\" rel=\"stylesheet\" type=\"text/css\">\n",
      "<script src=\"https://static4.planespotters.net/js/planespotters-2e9a2d4db4.min.js\"></script>\n",
      "</link></head>\n",
      "<body class=\"bootstrap\">\n",
      "<header class=\"page__header\">\n",
      "<nav class=\"header__menu\">\n",
      "<a class=\"header__logo\" href=\"/\" name=\"top\"></a>\n",
      "<ul>\n",
      "<li class=\"submenu\">\n",
      "<a href=\"/photo/search\">Photos</a>\n",
      "<ul>\n",
      "<li><a href=\"/photos/latest\">Latest Additions</a></li>\n",
      "<li><a href=\"/photos/popular\">Most Popular</a></li>\n",
      "<li><a href=\"/photos/editorsChoice\">Editor's Choice</a></li>\n",
      "<li><a href=\"/photos/favorited\">User Favorites</a></li>\n",
      "<li><a href=\"/photos\">Photo Search</a></li>\n",
      "<li class=\"divider\"></li>\n",
      "<li><a href=\"/photo/upload\">Upload Your Photos</a></li>\n",
      "</ul>\n",
      "</li>\n",
      "<li class=\"submenu\">\n",
      "<a href=\"/production-list/index\">Aircraft</a>\n",
      "<ul>\n",
      "<li><a href=\"/production-list/index\">Production Lists</a></li>\n",
      "<li><a href=\"/deliveries\">Latest Deliveries</a></li>\n",
      "<li class=\"divider\"></li>\n",
      "<li><a href=\"/special/boeing-737-max-grounding\">Boeing 737 MAX Special</a></li>\n",
      "<li><a href=\"/special/boeing-787\">Boeing 787 Special</a></li>\n",
      "<li><a href=\"/special/an225\">Antonov An-225 Tribute</a></li>\n",
      "</ul>\n",
      "</li>\n",
      "<li class=\"submenu\">\n",
      "<a href=\"/airlines\">Airlines</a>\n",
      "<ul>\n",
      "<li><a href=\"/airlines\">Airline Index</a></li>\n",
      "<li><a href=\"/airlines/country\">Airlines by Country</a></li>\n",
      "</ul>\n",
      "</li>\n",
      "</ul>\n",
      "<form accept-charset=\"utf-8\" action=\"/search\" class=\"page__header_search\" method=\"get\">\n",
      "<input autocomplete=\"off\" id=\"q\" name=\"q\" type=\"text\"/>\n",
      "<button type=\"submit\"><i class=\"fa fa-search\"></i></button>\n",
      "</form>\n",
      "<ul>\n",
      "<li class=\"submenu submenu-left\">\n",
      "<a class=\"header__menu_profile_icon\" href=\"/member/profile\">\n",
      "<i class=\"fa fa-user-o\"></i>\n",
      "</a>\n",
      "<ul>\n",
      "<li><a href=\"/member/profile\">Profile</a></li>\n",
      "<li><a href=\"/member/profile/settings\">Settings</a></li>\n",
      "<li><a class=\"\" href=\"/member/photo/screening\">Screening Info</a></li>\n",
      "<li><a href=\"/member/photo/stats\">Photo Stats</a></li>\n",
      "<li><a href=\"/photos/favorites\">My Favorites</a></li>\n",
      "<li><a href=\"/photos/gallery/MikoyanG\">Personal Gallery</a></li>\n",
      "<li class=\"divider\"></li>\n",
      "<li><a href=\"/user/logout\">Log Out</a></li>\n",
      "</ul>\n",
      "</li>\n",
      "</ul>\n",
      "</nav>\n",
      "</header>\n",
      "<main class=\"\" id=\"content\">\n",
      "<div class=\"container950 padding-vertical-30\">\n",
      "<div class=\"flex-row\">\n",
      "<div class=\"flex-column flex-300\">\n",
      "<div class=\"margin-30 text-center\">\n",
      "<img class=\"user__profile_picture\" height=\"200\" src=\"data:image/svg+xml,%3Csvg%20xmlns%3D%22http%3A%2F%2Fwww.w3.org%2F2000%2Fsvg%22%20viewBox%3D%220%200%201024%201024%22%20style%3D%22background%3A%23cccccc%22%3E%3Ctext%20text-anchor%3D%22middle%22%20dy%3D%22.35em%22%20x%3D%22512%22%20y%3D%22512%22%20fill%3D%22%23ffffff%22%20font-size%3D%22550%22%20font-family%3D%22-apple-system%2C%20BlinkMacSystemFont%2C%20Open%20Sans%2C%20Verdana%2C%20Helvetica%2C%20Arial%2C%20sans-serif%22%3ER%3C%2Ftext%3E%3C%2Fsvg%3E\" width=\"200\"/> </div>\n",
      "<div style=\"width: 200px; margin-left: auto; margin-right: auto;\">\n",
      "<a class=\"btn btn-flat-default-new btn-md btn-display-block member_profile__photo_upload\" href=\"/member/profile/photo\"><i class=\"fa fa-upload\"></i> Upload New Image</a>\n",
      "</div>\n",
      "</div>\n",
      "<div class=\"flex-column\">\n",
      "<h1 class=\"headline-spacer\">Profile</h1>\n",
      "<table class=\"table-light\">\n",
      "<tr>\n",
      "<th>Name</th>\n",
      "<td>Rahul Rajput</td>\n",
      "<td><a class=\"btn btn-flat-default btn-xs\" href=\"/member/profile/name\"><i class=\"fa fa-pencil\"></i> Edit</a></td>\n",
      "</tr>\n",
      "<tr>\n",
      "<th>Username</th>\n",
      "<td>MikoyanG</td>\n",
      "<td><a class=\"btn btn-flat-default btn-xs\" href=\"/member/profile/username\"><i class=\"fa fa-pencil\"></i> Edit</a></td>\n",
      "</tr>\n",
      "<tr>\n",
      "<th>E-Mail</th>\n",
      "<td>maninturmoil@gmail.com</td>\n",
      "<td><a class=\"btn btn-flat-default btn-xs\" href=\"/member/profile/email\"><i class=\"fa fa-pencil\"></i> Edit</a></td>\n",
      "</tr>\n",
      "<tr>\n",
      "<th>Member since</th>\n",
      "<td>14 February 2023</td>\n",
      "<td></td>\n",
      "</tr>\n",
      "</table>\n",
      "<div class=\"margin-30\">\n",
      "<h6 class=\"heading-new-muted text-uppercase\">Password</h6>\n",
      "<a class=\"btn btn-flat-default-new btn-md\" href=\"/member/profile/password\">Change Password</a>\n",
      "</div>\n",
      "<div class=\"margin-30\">\n",
      "<h6 class=\"heading-new-muted text-uppercase\">Settings</h6>\n",
      "<a class=\"btn btn-flat-default-new btn-md\" href=\"/member/profile/settings\"><i class=\"fa fa-cog\"></i> View Settings</a>\n",
      "</div>\n",
      "<h1 class=\"headline-spacer margin\">Photos</h1>\n",
      "<div class=\"padding-20 flex-row\">\n",
      "<div class=\"flex-column stats-box text-center\">\n",
      "<h4>\n",
      "<a data-toggle=\"tooltip\" href=\"/photos/gallery/MikoyanG\" title=\"0 Photos online\">\n",
      "<i class=\"fa fa-camera\"></i> 0                        </a>\n",
      "</h4>\n",
      "</div>\n",
      "<div class=\"flex-column stats-box text-center\">\n",
      "<h4>\n",
      "<a data-toggle=\"tooltip\" href=\"/member/photo/screening\" title=\"0 Photos in screening\">\n",
      "<i class=\"fa fa-hourglass-half\"></i> 0                        </a>\n",
      "</h4>\n",
      "</div>\n",
      "<div class=\"flex-column stats-box text-center\">\n",
      "<h4>\n",
      "<a data-toggle=\"tooltip\" href=\"/member/photo/stats\" title=\"0 Total Views\">\n",
      "<i class=\"mi mi-remove_red_eye\"></i> 0                        </a>\n",
      "</h4>\n",
      "</div>\n",
      "<div class=\"flex-column stats-box text-center\">\n",
      "<h4>\n",
      "<a data-toggle=\"tooltip\" href=\"/photos/gallery/MikoyanG?special=favorited\" title=\"0 Photo Favorites\">\n",
      "<i class=\"fa fa-star-o\"></i> 0                        </a>\n",
      "</h4>\n",
      "</div>\n",
      "<div class=\"flex-column\">\n",
      "<a class=\"btn btn-flat-default-new btn-md\" href=\"/member/photo/stats\"><i class=\"fa fa-bar-chart\"></i> Photo Stats</a>\n",
      "</div>\n",
      "</div>\n",
      "<div class=\"margin-20\">\n",
      "<h6 class=\"heading-new-muted text-uppercase\">Upload &amp; Screening</h6>\n",
      "<table class=\"table-light\">\n",
      "<tr>\n",
      "<td width=\"30%\">\n",
      "<a class=\"btn btn-flat-default-new btn-md btn-display-block\" href=\"/photo/upload\"><i class=\"fa fa-plus\"></i> Upload Photos</a>\n",
      "</td>\n",
      "<td>\n",
      "                            Upload new photos\n",
      "                        </td>\n",
      "</tr>\n",
      "<tr>\n",
      "<td>\n",
      "<a class=\"btn btn-flat-default-new btn-md btn-display-block\" href=\"/member/photo/screening\"><i class=\"fa fa-info-circle\"></i> Screening Info</a>\n",
      "</td>\n",
      "<td>\n",
      "                            Follow along with the screening progress and check screening results.\n",
      "                        </td>\n",
      "</tr>\n",
      "<tr>\n",
      "<td>\n",
      "<a class=\"btn btn-flat-default-new btn-md btn-display-block\" href=\"/photo/reupload\"><i class=\"fa fa-repeat\"></i> Re-Upload Photos</a>\n",
      "</td>\n",
      "<td>\n",
      "                            Re-upload better versions of already accepted photos\n",
      "                        </td>\n",
      "</tr>\n",
      "</table>\n",
      "</div>\n",
      "<div class=\"margin-20\">\n",
      "<h6 class=\"heading-new-muted text-uppercase\">Manage Photos</h6>\n",
      "<table class=\"table-light\">\n",
      "<tr>\n",
      "<td width=\"30%\">\n",
      "<a class=\"btn btn-flat-default-new btn-md btn-display-block\" href=\"/photos/gallery/MikoyanG?watermark=0\"><i class=\"fa fa-search\"></i> Watermark</a>\n",
      "</td>\n",
      "<td>\n",
      "                                Find photos without watermark\n",
      "                            </td>\n",
      "</tr>\n",
      "<tr>\n",
      "<td width=\"30%\">\n",
      "<a class=\"btn btn-flat-default-new btn-md btn-display-block\" href=\"/photos/favorites\"><i class=\"fa fa-star-o\"></i> My Favorites</a>\n",
      "</td>\n",
      "<td>\n",
      "                            Show and manage my favorites\n",
      "                        </td>\n",
      "</tr>\n",
      "</table>\n",
      "</div>\n",
      "</div>\n",
      "</div>\n",
      "</div>\n",
      "</main>\n",
      "<footer class=\"page__footer\">\n",
      "<div class=\"container950\">\n",
      "<div class=\"grid-4\">\n",
      "<div>\n",
      "<h6><a href=\"/\">Home</a></h6>\n",
      "<h6><a href=\"/about\">About</a></h6>\n",
      "<ul class=\"list-unstyled\">\n",
      "<li><a href=\"/about\">About Us</a></li>\n",
      "<li><a href=\"/help/contact\">Contact</a></li>\n",
      "</ul>\n",
      "</div>\n",
      "<div>\n",
      "<h6>Aircraft</h6>\n",
      "<ul class=\"list-unstyled\">\n",
      "<li><a href=\"/production-list/index\">Production Lists</a></li>\n",
      "<li><a href=\"/deliveries\">Deliveries</a></li>\n",
      "</ul>\n",
      "<h6 class=\"margin-top-20\">Airlines</h6>\n",
      "<ul class=\"list-unstyled\">\n",
      "<li><a href=\"/airlines\">Index</a></li>\n",
      "<li><a href=\"/airlines/country\">Country List</a></li>\n",
      "</ul>\n",
      "</div>\n",
      "<div>\n",
      "<h6>Photos</h6>\n",
      "<ul class=\"list-unstyled\">\n",
      "<li><a href=\"/photos/latest\">Latest Additions</a></li>\n",
      "<li><a href=\"/photos/top/24hrs\">Most Popular Last 24hrs</a></li>\n",
      "<li><a href=\"/photos/editorsChoice\">Editor's Choice</a></li>\n",
      "<li><a href=\"/photo/upload\">Upload Your Photos</a></li>\n",
      "</ul>\n",
      "<h6 class=\"margin-top-20\"><a href=\"/photo/api\">Photo API</a></h6>\n",
      "</div>\n",
      "<div>\n",
      "<h6>Legal</h6>\n",
      "<ul class=\"list-unstyled\">\n",
      "<li><a href=\"/legal/termsofuse\">Terms of Use</a></li>\n",
      "<li><a href=\"/legal/privacypolicy\">Privacy Policy</a></li>\n",
      "<li><a href=\"/legal/cookiepolicy\">Cookie Policy</a></li>\n",
      "<li><a class=\"\" href=\"javascript:void(0);\" onclick=\"window.yieldlove_cmp.loadPrivacyManager();\">Privacy Manager</a></li>\n",
      "</ul>\n",
      "</div>\n",
      "</div>\n",
      "<div class=\"margin-top-20\">\n",
      "<h6><a href=\"/photos/latest\">Latest Photos</a></h6>\n",
      "<div class=\"photo_large__nav_list flex-row flex-left\">\n",
      "<a class=\"photo_large__nav_list_item\" href=\"/photo/1388388/n2060j-jetblue-airways-airbus-a321-271nx?sid=f36b3edc8428e2e42622acfa073669d5&amp;sc=0\"><img alt=\"N2060J | JetBlue Airways | Airbus A321-271NX\" src=\"https://t.plnspttrs.net/05861/1388388_2111543156_t.jpg\"/></a>\n",
      "<a class=\"photo_large__nav_list_item\" href=\"/photo/1388387/n2047j-jetblue-airways-airbus-a321-271nx?sid=f36b3edc8428e2e42622acfa073669d5&amp;sc=1\"><img alt=\"N2047J | JetBlue Airways | Airbus A321-271NX\" src=\"https://t.plnspttrs.net/30077/1388387_2ccafa8608_t.jpg\"/></a>\n",
      "<a class=\"photo_large__nav_list_item\" href=\"/photo/1388386/n2029j-jetblue-airways-airbus-a321-271nx?sid=f36b3edc8428e2e42622acfa073669d5&amp;sc=2\"><img alt=\"N2029J | JetBlue Airways | Airbus A321-271NX\" src=\"https://t.plnspttrs.net/20166/1388386_21fedd5cec_t.jpg\"/></a>\n",
      "<a class=\"photo_large__nav_list_item\" href=\"/photo/1388385/n997jl-jetblue-airways-airbus-a321-231wl?sid=f36b3edc8428e2e42622acfa073669d5&amp;sc=3\"><img alt=\"N997JL | JetBlue Airways | Airbus A321-231(WL)\" src=\"https://t.plnspttrs.net/38904/1388385_27f0c01420_t.jpg\"/></a>\n",
      "<a class=\"photo_large__nav_list_item\" href=\"/photo/1388384/n977je-jetblue-airways-airbus-a321-231wl?sid=f36b3edc8428e2e42622acfa073669d5&amp;sc=4\"><img alt=\"N977JE | JetBlue Airways | Airbus A321-231(WL)\" src=\"https://t.plnspttrs.net/11682/1388384_c6d0765142_t.jpg\"/></a>\n",
      "<a class=\"photo_large__nav_list_item\" href=\"/photo/1388383/n961jt-jetblue-airways-airbus-a321-231wl?sid=f36b3edc8428e2e42622acfa073669d5&amp;sc=5\"><img alt=\"N961JT | JetBlue Airways | Airbus A321-231(WL)\" src=\"https://t.plnspttrs.net/34569/1388383_e90d3033f0_t.jpg\"/></a>\n",
      "<a class=\"photo_large__nav_list_item\" href=\"/photo/1388382/n955jb-jetblue-airways-airbus-a321-231wl?sid=f36b3edc8428e2e42622acfa073669d5&amp;sc=6\"><img alt=\"N955JB | JetBlue Airways | Airbus A321-231(WL)\" src=\"https://t.plnspttrs.net/16377/1388382_4a29e811eb_t.jpg\"/></a>\n",
      "<a class=\"photo_large__nav_list_item\" href=\"/photo/1388381/n916du-delta-air-lines-boeing-737-932erwl?sid=f36b3edc8428e2e42622acfa073669d5&amp;sc=7\"><img alt=\"N916DU | Delta Air Lines | Boeing 737-932ER(WL)\" src=\"https://t.plnspttrs.net/10840/1388381_33c7f59d58_t.jpg\"/></a>\n",
      "<a class=\"photo_large__nav_list_item\" href=\"/photo/1388380/n947jb-jetblue-airways-airbus-a321-231wl?sid=f36b3edc8428e2e42622acfa073669d5&amp;sc=8\"><img alt=\"N947JB | JetBlue Airways | Airbus A321-231(WL)\" src=\"https://t.plnspttrs.net/27315/1388380_17a40c7b53_t.jpg\"/></a>\n",
      "<a class=\"photo_large__nav_list_item\" href=\"/photo/1388379/n3762y-delta-air-lines-boeing-737-832wl?sid=f36b3edc8428e2e42622acfa073669d5&amp;sc=9\"><img alt=\"N3762Y | Delta Air Lines | Boeing 737-832(WL)\" src=\"https://t.plnspttrs.net/11442/1388379_bc24d1fa21_t.jpg\"/></a>\n",
      "</div> </div>\n",
      "</div>\n",
      "</footer>\n",
      "<footer class=\"page__footer page__footer_copyright\">\n",
      "<div class=\"container950 text-center\">\n",
      "<p>© Planespotters.net 2023. All rights reserved.</p>\n",
      "</div>\n",
      "</footer>\n",
      "<div class=\"loading-modal\">Loading</div>\n",
      "<script>\n",
      "\tvar _paq = window._paq = window._paq || [];\n",
      "\t/* tracker methods like \"setCustomDimension\" should be called before \"trackPageView\" */\n",
      "\t_paq.push([\"setExcludedQueryParams\", [\"p\",\"sort\",\"dir\"]]);\n",
      "\t_paq.push(['trackPageView']);\n",
      "\t_paq.push(['enableLinkTracking']);\n",
      "\t(function() {\n",
      "\t\tvar u=\"//stats.planespotters.net/\";\n",
      "\t\t_paq.push(['setTrackerUrl', u+'matomo.php']);\n",
      "\t\t_paq.push(['setSiteId', '1']);\n",
      "\t\tvar d=document, g=d.createElement('script'), s=d.getElementsByTagName('script')[0];\n",
      "\t\tg.async=true; g.src=u+'matomo.js'; s.parentNode.insertBefore(g,s);\n",
      "\t})();\n",
      "</script>\n",
      "<script>\n",
      "</script>\n",
      "<script>\n",
      "</script>\n",
      "</body>\n",
      "</html>\n",
      "[('__psuid', '567d463bf7079c5a20bc21b00154004a'), ('ps_sessid', 'iVbcMCjgqut5BgwWMwqnLmGpOg'), ('__psuid', '567d463bf7079c5a20bc21b00154004a'), ('ps_sessid', 'pgZmFI3DFg0Aoct3zw79EgYyNz')]\n",
      "True\n"
     ]
    }
   ],
   "source": [
    "final = session.get(\"https://www.planespotters.net/member/profile\", headers=headers ,cookies=cookies_post)\n",
    "final_check = BeautifulSoup(final.content, 'html.parser')\n",
    "print(\"The status code for website access is :\",final.status_code)\n",
    "\n",
    "# Part 5A\n",
    "print(final_check)\n",
    "\n",
    "# Part 5B\n",
    "total_cookies = list(cookies_get.items()) + list(cookies_post.items())\n",
    "print(total_cookies)\n",
    "\n",
    "# with open(\"/Users/rahulrajput/Desktop/MSBA/Winter/422 - Data Design & Representation/test\" + \".html\", \"w\") as f:\n",
    "#    f.write(str(final_check))\n",
    "\n",
    "# Part 5C\n",
    "print(bool(final_check.findAll(text = \"MikoyanG\")))"
   ]
  },
  {
   "cell_type": "markdown",
   "id": "03e26607",
   "metadata": {},
   "source": [
    "## Part 2\n",
    "### Question 1"
   ]
  },
  {
   "cell_type": "code",
   "execution_count": 276,
   "id": "ef97b9ad",
   "metadata": {
    "scrolled": true
   },
   "outputs": [
    {
     "name": "stderr",
     "output_type": "stream",
     "text": [
      "/var/folders/2q/t2zqpdvs08xfcswxyd3rdsn80000gn/T/ipykernel_1667/2498477345.py:4: DeprecationWarning: executable_path has been deprecated, please pass in a Service object\n",
      "  driver = webdriver.Chrome(executable_path='/Users/rahulrajput/Desktop/MSBA/Winter/422 - Data Design & Representation/chromedriver_mac_arm64/chromedriver')\n"
     ]
    },
    {
     "ename": "TimeoutException",
     "evalue": "Message: timeout: Timed out receiving message from renderer: 10.000\n  (Session info: chrome=109.0.5414.119)\nStacktrace:\n0   chromedriver                        0x00000001006eb0fc chromedriver + 4223228\n1   chromedriver                        0x0000000100673284 chromedriver + 3732100\n2   chromedriver                        0x00000001003275c8 chromedriver + 275912\n3   chromedriver                        0x0000000100311d14 chromedriver + 187668\n4   chromedriver                        0x0000000100311a6c chromedriver + 186988\n5   chromedriver                        0x0000000100310674 chromedriver + 181876\n6   chromedriver                        0x0000000100310adc chromedriver + 183004\n7   chromedriver                        0x000000010031e268 chromedriver + 238184\n8   chromedriver                        0x000000010032f268 chromedriver + 307816\n9   chromedriver                        0x0000000100310f60 chromedriver + 184160\n10  chromedriver                        0x000000010032f0ac chromedriver + 307372\n11  chromedriver                        0x000000010039b544 chromedriver + 750916\n12  chromedriver                        0x0000000100355748 chromedriver + 464712\n13  chromedriver                        0x00000001003567f0 chromedriver + 468976\n14  chromedriver                        0x00000001006bbe08 chromedriver + 4029960\n15  chromedriver                        0x00000001006bf698 chromedriver + 4044440\n16  chromedriver                        0x00000001006bfcc0 chromedriver + 4046016\n17  chromedriver                        0x00000001006c64c4 chromedriver + 4072644\n18  chromedriver                        0x00000001006c036c chromedriver + 4047724\n19  chromedriver                        0x0000000100698bd8 chromedriver + 3886040\n20  chromedriver                        0x00000001006dcefc chromedriver + 4165372\n21  chromedriver                        0x00000001006dd050 chromedriver + 4165712\n22  chromedriver                        0x00000001006f1e20 chromedriver + 4251168\n23  libsystem_pthread.dylib             0x00000001a9fa026c _pthread_start + 148\n24  libsystem_pthread.dylib             0x00000001a9f9b08c thread_start + 8\n",
     "output_type": "error",
     "traceback": [
      "\u001b[0;31m---------------------------------------------------------------------------\u001b[0m",
      "\u001b[0;31mTimeoutException\u001b[0m                          Traceback (most recent call last)",
      "\u001b[0;32m/var/folders/2q/t2zqpdvs08xfcswxyd3rdsn80000gn/T/ipykernel_1667/2498477345.py\u001b[0m in \u001b[0;36m<module>\u001b[0;34m\u001b[0m\n\u001b[1;32m     16\u001b[0m \u001b[0mselector\u001b[0m \u001b[0;34m=\u001b[0m \u001b[0;34m\"input[type=text]\"\u001b[0m\u001b[0;34m\u001b[0m\u001b[0;34m\u001b[0m\u001b[0m\n\u001b[1;32m     17\u001b[0m \u001b[0minp\u001b[0m \u001b[0;34m=\u001b[0m \u001b[0mdriver\u001b[0m\u001b[0;34m.\u001b[0m\u001b[0mfind_element\u001b[0m\u001b[0;34m(\u001b[0m\u001b[0;34m\"css selector\"\u001b[0m\u001b[0;34m,\u001b[0m \u001b[0mselector\u001b[0m\u001b[0;34m)\u001b[0m\u001b[0;34m\u001b[0m\u001b[0;34m\u001b[0m\u001b[0m\n\u001b[0;32m---> 18\u001b[0;31m \u001b[0minp\u001b[0m\u001b[0;34m.\u001b[0m\u001b[0msend_keys\u001b[0m\u001b[0;34m(\u001b[0m\u001b[0;34m\"Google in 1998\\n\"\u001b[0m\u001b[0;34m)\u001b[0m\u001b[0;34m\u001b[0m\u001b[0;34m\u001b[0m\u001b[0m\n\u001b[0m\u001b[1;32m     19\u001b[0m \u001b[0mtime\u001b[0m\u001b[0;34m.\u001b[0m\u001b[0msleep\u001b[0m\u001b[0;34m(\u001b[0m\u001b[0;36m5\u001b[0m\u001b[0;34m)\u001b[0m\u001b[0;34m\u001b[0m\u001b[0;34m\u001b[0m\u001b[0m\n\u001b[1;32m     20\u001b[0m \u001b[0;34m\u001b[0m\u001b[0m\n",
      "\u001b[0;32m~/opt/anaconda3/lib/python3.9/site-packages/selenium/webdriver/remote/webelement.py\u001b[0m in \u001b[0;36msend_keys\u001b[0;34m(self, *value)\u001b[0m\n\u001b[1;32m    228\u001b[0m                 \u001b[0mvalue\u001b[0m \u001b[0;34m=\u001b[0m \u001b[0;34m\"\\n\"\u001b[0m\u001b[0;34m.\u001b[0m\u001b[0mjoin\u001b[0m\u001b[0;34m(\u001b[0m\u001b[0mremote_files\u001b[0m\u001b[0;34m)\u001b[0m\u001b[0;34m\u001b[0m\u001b[0;34m\u001b[0m\u001b[0m\n\u001b[1;32m    229\u001b[0m \u001b[0;34m\u001b[0m\u001b[0m\n\u001b[0;32m--> 230\u001b[0;31m         self._execute(\n\u001b[0m\u001b[1;32m    231\u001b[0m             \u001b[0mCommand\u001b[0m\u001b[0;34m.\u001b[0m\u001b[0mSEND_KEYS_TO_ELEMENT\u001b[0m\u001b[0;34m,\u001b[0m \u001b[0;34m{\u001b[0m\u001b[0;34m\"text\"\u001b[0m\u001b[0;34m:\u001b[0m \u001b[0;34m\"\"\u001b[0m\u001b[0;34m.\u001b[0m\u001b[0mjoin\u001b[0m\u001b[0;34m(\u001b[0m\u001b[0mkeys_to_typing\u001b[0m\u001b[0;34m(\u001b[0m\u001b[0mvalue\u001b[0m\u001b[0;34m)\u001b[0m\u001b[0;34m)\u001b[0m\u001b[0;34m,\u001b[0m \u001b[0;34m\"value\"\u001b[0m\u001b[0;34m:\u001b[0m \u001b[0mkeys_to_typing\u001b[0m\u001b[0;34m(\u001b[0m\u001b[0mvalue\u001b[0m\u001b[0;34m)\u001b[0m\u001b[0;34m}\u001b[0m\u001b[0;34m\u001b[0m\u001b[0;34m\u001b[0m\u001b[0m\n\u001b[1;32m    232\u001b[0m         )\n",
      "\u001b[0;32m~/opt/anaconda3/lib/python3.9/site-packages/selenium/webdriver/remote/webelement.py\u001b[0m in \u001b[0;36m_execute\u001b[0;34m(self, command, params)\u001b[0m\n\u001b[1;32m    401\u001b[0m             \u001b[0mparams\u001b[0m \u001b[0;34m=\u001b[0m \u001b[0;34m{\u001b[0m\u001b[0;34m}\u001b[0m\u001b[0;34m\u001b[0m\u001b[0;34m\u001b[0m\u001b[0m\n\u001b[1;32m    402\u001b[0m         \u001b[0mparams\u001b[0m\u001b[0;34m[\u001b[0m\u001b[0;34m\"id\"\u001b[0m\u001b[0;34m]\u001b[0m \u001b[0;34m=\u001b[0m \u001b[0mself\u001b[0m\u001b[0;34m.\u001b[0m\u001b[0m_id\u001b[0m\u001b[0;34m\u001b[0m\u001b[0;34m\u001b[0m\u001b[0m\n\u001b[0;32m--> 403\u001b[0;31m         \u001b[0;32mreturn\u001b[0m \u001b[0mself\u001b[0m\u001b[0;34m.\u001b[0m\u001b[0m_parent\u001b[0m\u001b[0;34m.\u001b[0m\u001b[0mexecute\u001b[0m\u001b[0;34m(\u001b[0m\u001b[0mcommand\u001b[0m\u001b[0;34m,\u001b[0m \u001b[0mparams\u001b[0m\u001b[0;34m)\u001b[0m\u001b[0;34m\u001b[0m\u001b[0;34m\u001b[0m\u001b[0m\n\u001b[0m\u001b[1;32m    404\u001b[0m \u001b[0;34m\u001b[0m\u001b[0m\n\u001b[1;32m    405\u001b[0m     \u001b[0;32mdef\u001b[0m \u001b[0mfind_element\u001b[0m\u001b[0;34m(\u001b[0m\u001b[0mself\u001b[0m\u001b[0;34m,\u001b[0m \u001b[0mby\u001b[0m\u001b[0;34m=\u001b[0m\u001b[0mBy\u001b[0m\u001b[0;34m.\u001b[0m\u001b[0mID\u001b[0m\u001b[0;34m,\u001b[0m \u001b[0mvalue\u001b[0m\u001b[0;34m=\u001b[0m\u001b[0;32mNone\u001b[0m\u001b[0;34m)\u001b[0m \u001b[0;34m->\u001b[0m \u001b[0mWebElement\u001b[0m\u001b[0;34m:\u001b[0m\u001b[0;34m\u001b[0m\u001b[0;34m\u001b[0m\u001b[0m\n",
      "\u001b[0;32m~/opt/anaconda3/lib/python3.9/site-packages/selenium/webdriver/remote/webdriver.py\u001b[0m in \u001b[0;36mexecute\u001b[0;34m(self, driver_command, params)\u001b[0m\n\u001b[1;32m    438\u001b[0m         \u001b[0mresponse\u001b[0m \u001b[0;34m=\u001b[0m \u001b[0mself\u001b[0m\u001b[0;34m.\u001b[0m\u001b[0mcommand_executor\u001b[0m\u001b[0;34m.\u001b[0m\u001b[0mexecute\u001b[0m\u001b[0;34m(\u001b[0m\u001b[0mdriver_command\u001b[0m\u001b[0;34m,\u001b[0m \u001b[0mparams\u001b[0m\u001b[0;34m)\u001b[0m\u001b[0;34m\u001b[0m\u001b[0;34m\u001b[0m\u001b[0m\n\u001b[1;32m    439\u001b[0m         \u001b[0;32mif\u001b[0m \u001b[0mresponse\u001b[0m\u001b[0;34m:\u001b[0m\u001b[0;34m\u001b[0m\u001b[0;34m\u001b[0m\u001b[0m\n\u001b[0;32m--> 440\u001b[0;31m             \u001b[0mself\u001b[0m\u001b[0;34m.\u001b[0m\u001b[0merror_handler\u001b[0m\u001b[0;34m.\u001b[0m\u001b[0mcheck_response\u001b[0m\u001b[0;34m(\u001b[0m\u001b[0mresponse\u001b[0m\u001b[0;34m)\u001b[0m\u001b[0;34m\u001b[0m\u001b[0;34m\u001b[0m\u001b[0m\n\u001b[0m\u001b[1;32m    441\u001b[0m             \u001b[0mresponse\u001b[0m\u001b[0;34m[\u001b[0m\u001b[0;34m\"value\"\u001b[0m\u001b[0;34m]\u001b[0m \u001b[0;34m=\u001b[0m \u001b[0mself\u001b[0m\u001b[0;34m.\u001b[0m\u001b[0m_unwrap_value\u001b[0m\u001b[0;34m(\u001b[0m\u001b[0mresponse\u001b[0m\u001b[0;34m.\u001b[0m\u001b[0mget\u001b[0m\u001b[0;34m(\u001b[0m\u001b[0;34m\"value\"\u001b[0m\u001b[0;34m,\u001b[0m \u001b[0;32mNone\u001b[0m\u001b[0;34m)\u001b[0m\u001b[0;34m)\u001b[0m\u001b[0;34m\u001b[0m\u001b[0;34m\u001b[0m\u001b[0m\n\u001b[1;32m    442\u001b[0m             \u001b[0;32mreturn\u001b[0m \u001b[0mresponse\u001b[0m\u001b[0;34m\u001b[0m\u001b[0;34m\u001b[0m\u001b[0m\n",
      "\u001b[0;32m~/opt/anaconda3/lib/python3.9/site-packages/selenium/webdriver/remote/errorhandler.py\u001b[0m in \u001b[0;36mcheck_response\u001b[0;34m(self, response)\u001b[0m\n\u001b[1;32m    243\u001b[0m                 \u001b[0malert_text\u001b[0m \u001b[0;34m=\u001b[0m \u001b[0mvalue\u001b[0m\u001b[0;34m[\u001b[0m\u001b[0;34m\"alert\"\u001b[0m\u001b[0;34m]\u001b[0m\u001b[0;34m.\u001b[0m\u001b[0mget\u001b[0m\u001b[0;34m(\u001b[0m\u001b[0;34m\"text\"\u001b[0m\u001b[0;34m)\u001b[0m\u001b[0;34m\u001b[0m\u001b[0;34m\u001b[0m\u001b[0m\n\u001b[1;32m    244\u001b[0m             \u001b[0;32mraise\u001b[0m \u001b[0mexception_class\u001b[0m\u001b[0;34m(\u001b[0m\u001b[0mmessage\u001b[0m\u001b[0;34m,\u001b[0m \u001b[0mscreen\u001b[0m\u001b[0;34m,\u001b[0m \u001b[0mstacktrace\u001b[0m\u001b[0;34m,\u001b[0m \u001b[0malert_text\u001b[0m\u001b[0;34m)\u001b[0m  \u001b[0;31m# type: ignore[call-arg]  # mypy is not smart enough here\u001b[0m\u001b[0;34m\u001b[0m\u001b[0;34m\u001b[0m\u001b[0m\n\u001b[0;32m--> 245\u001b[0;31m         \u001b[0;32mraise\u001b[0m \u001b[0mexception_class\u001b[0m\u001b[0;34m(\u001b[0m\u001b[0mmessage\u001b[0m\u001b[0;34m,\u001b[0m \u001b[0mscreen\u001b[0m\u001b[0;34m,\u001b[0m \u001b[0mstacktrace\u001b[0m\u001b[0;34m)\u001b[0m\u001b[0;34m\u001b[0m\u001b[0;34m\u001b[0m\u001b[0m\n\u001b[0m",
      "\u001b[0;31mTimeoutException\u001b[0m: Message: timeout: Timed out receiving message from renderer: 10.000\n  (Session info: chrome=109.0.5414.119)\nStacktrace:\n0   chromedriver                        0x00000001006eb0fc chromedriver + 4223228\n1   chromedriver                        0x0000000100673284 chromedriver + 3732100\n2   chromedriver                        0x00000001003275c8 chromedriver + 275912\n3   chromedriver                        0x0000000100311d14 chromedriver + 187668\n4   chromedriver                        0x0000000100311a6c chromedriver + 186988\n5   chromedriver                        0x0000000100310674 chromedriver + 181876\n6   chromedriver                        0x0000000100310adc chromedriver + 183004\n7   chromedriver                        0x000000010031e268 chromedriver + 238184\n8   chromedriver                        0x000000010032f268 chromedriver + 307816\n9   chromedriver                        0x0000000100310f60 chromedriver + 184160\n10  chromedriver                        0x000000010032f0ac chromedriver + 307372\n11  chromedriver                        0x000000010039b544 chromedriver + 750916\n12  chromedriver                        0x0000000100355748 chromedriver + 464712\n13  chromedriver                        0x00000001003567f0 chromedriver + 468976\n14  chromedriver                        0x00000001006bbe08 chromedriver + 4029960\n15  chromedriver                        0x00000001006bf698 chromedriver + 4044440\n16  chromedriver                        0x00000001006bfcc0 chromedriver + 4046016\n17  chromedriver                        0x00000001006c64c4 chromedriver + 4072644\n18  chromedriver                        0x00000001006c036c chromedriver + 4047724\n19  chromedriver                        0x0000000100698bd8 chromedriver + 3886040\n20  chromedriver                        0x00000001006dcefc chromedriver + 4165372\n21  chromedriver                        0x00000001006dd050 chromedriver + 4165712\n22  chromedriver                        0x00000001006f1e20 chromedriver + 4251168\n23  libsystem_pthread.dylib             0x00000001a9fa026c _pthread_start + 148\n24  libsystem_pthread.dylib             0x00000001a9f9b08c thread_start + 8\n"
     ]
    }
   ],
   "source": [
    "from selenium import webdriver\n",
    "from selenium.webdriver.common.keys import Keys\n",
    "\n",
    "driver = webdriver.Chrome(executable_path='/Users/rahulrajput/Desktop/MSBA/Winter/422 - Data Design & Representation/chromedriver_mac_arm64/chromedriver')\n",
    "driver.implicitly_wait(10)\n",
    "driver.set_script_timeout(120)\n",
    "driver.set_page_load_timeout(10)\n",
    "\n",
    "driver.get(\"https://google.com\");\n",
    "selector = \"input[type=text]\"\n",
    "inp = driver.find_element(\"css selector\", selector)\n",
    "inp.send_keys(\"askew\\n\")\n",
    "time.sleep(5)\n",
    "\n",
    "driver.get(\"https://google.com\");\n",
    "selector = \"input[type=text]\"\n",
    "inp = driver.find_element(\"css selector\", selector)\n",
    "inp.send_keys(\"Google in 1998\\n\")\n",
    "time.sleep(5)\n",
    "\n",
    "driver.quit()"
   ]
  },
  {
   "cell_type": "markdown",
   "id": "58bd8e8e",
   "metadata": {},
   "source": [
    "### Question 2"
   ]
  },
  {
   "cell_type": "code",
   "execution_count": 290,
   "id": "ecb50159",
   "metadata": {},
   "outputs": [
    {
     "name": "stderr",
     "output_type": "stream",
     "text": [
      "/var/folders/2q/t2zqpdvs08xfcswxyd3rdsn80000gn/T/ipykernel_1667/1576929135.py:1: DeprecationWarning: executable_path has been deprecated, please pass in a Service object\n",
      "  driver = webdriver.Chrome(executable_path='/Users/rahulrajput/Desktop/MSBA/Winter/422 - Data Design & Representation/chromedriver_mac_arm64/chromedriver')\n"
     ]
    },
    {
     "name": "stdout",
     "output_type": "stream",
     "text": [
      "Sale expires in 3 hours and 49 minutes\n"
     ]
    }
   ],
   "source": [
    "driver = webdriver.Chrome(executable_path='/Users/rahulrajput/Desktop/MSBA/Winter/422 - Data Design & Representation/chromedriver_mac_arm64/chromedriver')\n",
    "driver.implicitly_wait(10)\n",
    "driver.set_script_timeout(120)\n",
    "driver.set_page_load_timeout(60)\n",
    "\n",
    "driver.get(\"https://www.bestbuy.com/\");\n",
    "dotd = \"a[data-lid='hdr_dotd']\"  \n",
    "deal = driver.find_element(\"css selector\", dotd);\n",
    "deal.click()\n",
    "time.sleep(5)\n",
    "\n",
    "element = \"div[aria-live='Assertive']\"\n",
    "print(driver.find_element(\"css selector\",element).text)\n",
    "\n",
    "\n",
    "reviews = \"a.ratings-reviews-link\"  \n",
    "reviews_page = driver.find_element(\"css selector\", reviews);\n",
    "reviews_page.click()\n",
    "time.sleep(5)\n",
    "\n",
    "with open(\"/Users/rahulrajput/Desktop/MSBA/Winter/422 - Data Design & Representation/HW 4/bestbuy_deal_of_the_day.htm\", \"w\", encoding='utf-8') as f:\n",
    "    f.write(driver.page_source)\n",
    "\n",
    "driver.quit()"
   ]
  }
 ],
 "metadata": {
  "kernelspec": {
   "display_name": "Python 3 (ipykernel)",
   "language": "python",
   "name": "python3"
  },
  "language_info": {
   "codemirror_mode": {
    "name": "ipython",
    "version": 3
   },
   "file_extension": ".py",
   "mimetype": "text/x-python",
   "name": "python",
   "nbconvert_exporter": "python",
   "pygments_lexer": "ipython3",
   "version": "3.9.7"
  }
 },
 "nbformat": 4,
 "nbformat_minor": 5
}
